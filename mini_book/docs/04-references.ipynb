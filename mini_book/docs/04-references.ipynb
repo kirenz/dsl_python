{
 "cells": [
  {
   "cell_type": "markdown",
   "id": "07f70dde",
   "metadata": {},
   "source": [
    "`r if (knitr::is_html_output()) '\n",
    "# References {-}\n",
    "'`"
   ]
  }
 ],
 "metadata": {
  "jupytext": {
   "cell_metadata_filter": "-all",
   "main_language": "python",
   "notebook_metadata_filter": "-all"
  }
 },
 "nbformat": 4,
 "nbformat_minor": 5
}
